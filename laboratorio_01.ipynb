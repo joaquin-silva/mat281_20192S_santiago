{
 "cells": [
  {
   "cell_type": "markdown",
   "metadata": {},
   "source": [
    "<img src=\"https://ssvp.cl/wp-content/uploads/2015/06/universidad-tecnica-federico-santa-maria.png\" width=\"480\" height=\"240\" align=\"left\"/>"
   ]
  },
  {
   "cell_type": "markdown",
   "metadata": {},
   "source": [
    "# Laboratorio 01\n",
    "\n",
    "\n",
    "## Contenidos\n",
    "\n",
    "* [Teoría de Números](#nt)\n",
    "* [Cálculo](#ca)\n",
    "\n"
   ]
  },
  {
   "cell_type": "markdown",
   "metadata": {},
   "source": [
    "## Objetivos de la clase\n",
    "\n",
    "* Resolver problemas básicos de distintas ramas de la matemáticas.\n",
    "* Reforzar conceptos claves de Python\n"
   ]
  },
  {
   "cell_type": "markdown",
   "metadata": {},
   "source": [
    "<a id='nt'></a>\n",
    "## I.- Teoría de Números\n",
    "\n",
    "<img src=\"https://media.istockphoto.com/illustrations/the-pi-symbol-mathematical-constant-irrational-number-on-circle-greek-illustration-id1045663386\" width=\"480\" height=\"240\" align=\"center\"/>\n"
   ]
  },
  {
   "cell_type": "markdown",
   "metadata": {},
   "source": [
    "## 1.-  Conjetura de Collatz\n",
    "\n",
    "La conjetura de Collatz, conocida también como conjetura $3n+1$ o conjetura de Ulam (entre otros nombres), fue enunciada por el matemático Lothar Collatz en 1937, y a la fecha no se ha resuelto.\n",
    "\n",
    "Sea la siguiente operación, aplicable a cualquier número entero positivo:\n",
    "* Si el número es par, se divide entre 2.\n",
    "* Si el número es impar, se multiplica por 3 y se suma 1.\n",
    "\n",
    "La conjetura dice que siempre alcanzaremos el 1 (y por tanto el ciclo 4, 2, 1) para cualquier número con el que comencemos. \n",
    "\n",
    "Implemente una función llamada **collatz**, cuyo input sea un número natural positivo $N$ y como output devulva la secuencia de números hasta llegar a 1.\n",
    "\n",
    "* **Ejemplo**: *collatz(9)* = [9, 28, 14, 7, 22, 11, 34, 17, 52, 26, 13, 40, 20, 10, 5, 16, 8, 4, 2, 1]"
   ]
  },
  {
   "cell_type": "code",
   "execution_count": 3,
   "metadata": {},
   "outputs": [],
   "source": [
    "def collatz(N):\n",
    "    seq = [N]\n",
    "    if N < 1:\n",
    "        return []\n",
    "    while N > 1:\n",
    "        if N % 2 == 0:\n",
    "            N = int(N / 2)\n",
    "        else:\n",
    "            N = int(3 * N + 1) \n",
    "        seq.append(N)    # agregar informacion\n",
    "    return seq"
   ]
  },
  {
   "cell_type": "code",
   "execution_count": 2,
   "metadata": {},
   "outputs": [
    {
     "name": "stdout",
     "output_type": "stream",
     "text": [
      "collatz 1 : [1]\n",
      "collatz 2 : [2, 1]\n",
      "collatz 3 : [3, 10, 5, 16, 8, 4, 2, 1]\n",
      "collatz 4 : [4, 2, 1]\n",
      "collatz 5 : [5, 16, 8, 4, 2, 1]\n",
      "collatz 6 : [6, 3, 10, 5, 16, 8, 4, 2, 1]\n",
      "collatz 7 : [7, 22, 11, 34, 17, 52, 26, 13, 40, 20, 10, 5, 16, 8, 4, 2, 1]\n",
      "collatz 8 : [8, 4, 2, 1]\n",
      "collatz 9 : [9, 28, 14, 7, 22, 11, 34, 17, 52, 26, 13, 40, 20, 10, 5, 16, 8, 4, 2, 1]\n",
      "collatz 10 : [10, 5, 16, 8, 4, 2, 1]\n"
     ]
    }
   ],
   "source": [
    "# imprimir valores\n",
    "num = 10\n",
    "numeros_narutales = range(1,num+1)\n",
    "lista_impresa = [ print('collatz',N,':',collatz(N)) for N in numeros_narutales]"
   ]
  },
  {
   "cell_type": "markdown",
   "metadata": {},
   "source": [
    "\n",
    "\n",
    "### 2.- Conjetura de Goldbach\n",
    "\n",
    "En teoría de números, la **Conjetura de Goldbach** es uno de los problemas abiertos más antiguos en matemáticas. Concretamente, G.H. Hardy, en 1921, en su famoso discurso pronunciado en la Sociedad Matemática de Copenhague, comentó que probablemente la conjetura de Goldbach no es solo uno de los problemas no resueltos más difíciles de la teoría de números, sino de todas las matemáticas. Su enunciado es el siguiente:\n",
    "\n",
    "$$\\textrm{Todo número par mayor que 2 puede escribirse como suma de dos números primos - Christian Goldbach (1742)}$$"
   ]
  },
  {
   "cell_type": "markdown",
   "metadata": {},
   "source": [
    "Implemente una función llamada **goldbach**, cuyo input sea un número natural positivo $N$ y como output devuelva la suma de dos primos ($N1$ y $N2$) tal que: $N1+N2=N$. \n",
    "\n",
    " * **Ejemplo**: goldbash(4) = (2,2), goldbash(6) = (3,3) , goldbash(8) = (3,5)"
   ]
  },
  {
   "cell_type": "code",
   "execution_count": 9,
   "metadata": {},
   "outputs": [],
   "source": [
    "# criba de eratostenes\n",
    "def eratostenes(n):\n",
    "    primos = list (range(2, n+1))\n",
    "    for i in primos:\n",
    "        j=2\n",
    "        while i*j<= primos[-1]:\n",
    "            if i*j in primos:\n",
    "                primos.remove(i*j)\n",
    "            j=j+1\n",
    "            \n",
    "    return primos\n",
    "\n",
    "# dejar solo primos impares\n",
    "def primos_impares(n):\n",
    "    primos = eratostenes(n)\n",
    "    primos.remove(2)\n",
    "    return(primos)\n",
    "\n",
    "# algoritmo Goldbach\n",
    "def goldbach(N):\n",
    "    x, y = 0, 0\n",
    "    result = 0\n",
    "    if N % 2 == 0:\n",
    "        if N==2:\n",
    "            return 0,0\n",
    "        elif N==4:\n",
    "            return 2,2\n",
    "        else:\n",
    "            prime = primos_impares(N)\n",
    "            while result != N:\n",
    "                for i in range(len(prime)):\n",
    "                    if result == N: break \n",
    "                    x = prime[i]\n",
    "                    for j in range(len(prime)):\n",
    "                        y = prime[j]\n",
    "                        result = x + y\n",
    "                        if result == N: break \n",
    "    return x,y\n"
   ]
  },
  {
   "cell_type": "code",
   "execution_count": 31,
   "metadata": {},
   "outputs": [
    {
     "name": "stdout",
     "output_type": "stream",
     "text": [
      "Goldbash 1 : (0, 0)\n",
      "Goldbash 2 : (0, 0)\n",
      "Goldbash 3 : (0, 0)\n",
      "Goldbash 4 : (2, 2)\n",
      "Goldbash 5 : (0, 0)\n",
      "Goldbash 6 : (3, 3)\n",
      "Goldbash 7 : (0, 0)\n",
      "Goldbash 8 : (3, 5)\n",
      "Goldbash 9 : (0, 0)\n",
      "Goldbash 10 : (3, 7)\n"
     ]
    }
   ],
   "source": [
    "# imprimir valores\n",
    "num = 10\n",
    "numeros_narutales = range(1,num+1)\n",
    "lista_impresa = [ print('Goldbash',N,':',goldbach(N)) for N in numeros_narutales]"
   ]
  },
  {
   "cell_type": "markdown",
   "metadata": {},
   "source": [
    "<a id='ca'></a>\n",
    "## II.- Cálculo\n",
    "\n",
    "<img src=\"https://3.bp.blogspot.com/-idGdPl1vTsI/XAAbhuP751I/AAAAAAAAAhw/d1zShxknuZc5G_hVPHwjYjGri7C1hAwmQCLcBGAs/s1600/calculus.jpg\" width=\"480\" height=\"240\" align=\"center\"/>\n",
    "\n"
   ]
  },
  {
   "cell_type": "markdown",
   "metadata": {},
   "source": [
    "\n",
    "### 1.- Integrales\n",
    "\n",
    "El problema era encontrar el área entre dos puntos en el eje xy debajo de la curva definida por alguna función continua. Por supuesto, si está familiarizado con Cálculo un poco, puede decir que puedo hacerlo fácilmente simplemente calculando el valor numérico de la integral definida. Sí, tienes toda la razón! Sin embargo, hay casos en los que es imposible encontrar el valor exacto de la integral definida.\n",
    "\n",
    " * La primera situación es cuando tiene una función pero no puede encontrar su antiderivada.\n",
    " * La segunda situación surge cuando ni siquiera tiene una función en sí misma, sino solo puntos en el eje xy sus valores correspondientes.\n",
    " \n",
    "En ambos casos, necesitamos hacer una aproximación para el valor de integrales definidas. Aquí le presentaré algunos métodos sencillos de integración numérica."
   ]
  },
  {
   "cell_type": "markdown",
   "metadata": {},
   "source": [
    "### 1.1.- Regla de punto medio\n",
    "\n",
    "Estos métodos de integración aproximada $L_n$ y $R_n$ se denominan aproximaciones de punto final izquierdo y punto final derecho, respectivamente. Cuando elegimos el punto medio de cada subintervalo para $x_{i}^*$, obtenemos un resultado mucho mejor que $L_n$ y $R_n$.\n",
    "Lo llamamos como **regla del punto medio**.\n",
    "\n",
    "$$\\int_{a}^{b}f(x)\\mathrm{d} x \\approx M_{n}= \\Delta x\\left | f(\\overline{x}_{1})+...+f(\\overline{x}_{n})  \\right |$$\n",
    "\n",
    "donde $ \\Delta x = \\dfrac{b-a}{n}$ y $\\overline{x}_{1} = \\dfrac{1}{2}(x_{i-1}+x_{i})$.\n"
   ]
  },
  {
   "cell_type": "markdown",
   "metadata": {},
   "source": [
    "<img src=\"https://i2.wp.com/www.kkhaydarov.com/wp-content/uploads/2018/06/midpoint-1.png?resize=300%2C300&ssl=1\" width=\"240\" height=\"240\" align=\"center\"/>"
   ]
  },
  {
   "cell_type": "markdown",
   "metadata": {},
   "source": [
    "### 1.2.- Regla del trapezoide\n",
    "\n",
    "Ahora, supongamos que si conectamos los puntos finales de cada subintervalo con líneas rectas, obtenemos n trapecios con la misma altura h. La suma de las áreas de todos los trapecios adyacentes nos da el valor aproximado de integrales definidas. Esta aproximación también se puede derivar del promedio de las aproximaciones del punto final izquierdo y del punto final derecho. Esto se conoce como la **regla del trapezoide** \n",
    "\n",
    "$$\\int_{a}^{b}f(x)\\mathrm{d} x \\approx M_{n} = \\dfrac{\\Delta x}{2}\\left | f(x_0)+2f(x_1)+2f(x_2)+...+2f(x_{n-1})-f(x_n)  \\right |$$\n",
    "\n",
    "donde $ \\Delta x = \\dfrac{b-a}{n}$ y $\\overline{x}_{1} = a+i\\Delta x$.\n"
   ]
  },
  {
   "cell_type": "markdown",
   "metadata": {},
   "source": [
    "<img src=\"https://i0.wp.com/www.kkhaydarov.com/wp-content/uploads/2018/06/trapezoidal.png?resize=300%2C300&ssl=1\" width=\"240\" height=\"240\" align=\"center\"/>"
   ]
  },
  {
   "cell_type": "markdown",
   "metadata": {},
   "source": [
    "### 1.3.- Regla de Simpson\n",
    "\n",
    "Finalmente, veamos otra aproximación, la regla de Simpson. Esta regla lleva el nombre del matemático inglés Thomas Simpson (1710-1761). Hay varias formas de derivar la regla de Simpson. Puedes ver las derivaciones por ti mismo. Sin embargo, en general, de acuerdo con la regla de Simpson, el área se puede aproximar con esta fórmula:\n",
    "\n",
    "$$\\int_{a}^{b}f(x)\\mathrm{d} x \\approx S_{n}= \\dfrac{\\Delta x}{3}\\left | f(x_0)+4f(x_1)+2f(x_2)+4f(x_3)+...+2f(x_{n-2})+4f(x_{n-1})-f(x_n)  \\right |$$\n",
    "\n",
    "\n",
    "donde $ \\Delta x = \\dfrac{b-a}{n}$ y n es impar.\n"
   ]
  },
  {
   "cell_type": "markdown",
   "metadata": {},
   "source": [
    "Implemente una función llamada **aproximacion_integrales**, cuyo input sea:\n",
    "\n",
    " * $a$: límite inferior\n",
    " * $b$: límite superior\n",
    " * $n$: numero de intervalos\n",
    " * $f$: función objetivo\n",
    " * $regla$: regla o método seleccionado\n",
    " \n",
    "y output sea la aproximación integral según corresponda."
   ]
  },
  {
   "cell_type": "code",
   "execution_count": 41,
   "metadata": {},
   "outputs": [],
   "source": [
    "def aproximacion_integrales(a,b,n,f,regla = \"punto_medio\"):\n",
    " \n",
    "    delta_x = (b-a) / n\n",
    "    total_sum = 0\n",
    " \n",
    "    if regla == \"punto_medio\":\n",
    "        for i in range(1, n + 1):\n",
    "            midpoint = 0.5 * (2 * a + delta_x * (2 * i - 1))\n",
    "            total_sum += f(midpoint)\n",
    " \n",
    "        return total_sum * delta_x\n",
    " \n",
    "    else:\n",
    "        total_sum = f(a) + f(b)\n",
    " \n",
    "        if regla == \"trapezoide\":\n",
    "            for i in range(1,n):\n",
    "                total_sum += f(a + i * delta_x)\n",
    " \n",
    "            return total_sum * delta_x / 2\n",
    " \n",
    "        elif regla == \"simpson\":\n",
    " \n",
    "            if n % 2:\n",
    "                raise ValueError(\"n debe ser impar (received n=%d)\" % n)\n",
    " \n",
    "            for i in range(1, n, 2):\n",
    "                total_sum += 4 * f(a + i * delta_x)\n",
    "            for i in range(2, n - 1, 2):\n",
    "                total_sum += 2 * f(a + i * delta_x)\n",
    " \n",
    "            return total_sum * delta_x / 3\n",
    " \n",
    "        else:\n",
    "            return 0"
   ]
  },
  {
   "cell_type": "markdown",
   "metadata": {},
   "source": [
    "### Problema del Péndulo\n",
    "\n",
    "<img src=\"https://i0.wp.com/www.kkhaydarov.com/wp-content/uploads/2018/06/pendulum.png?resize=300%2C300&ssl=1\" width=\"240\" height=\"240\" align=\"center\"/>"
   ]
  },
  {
   "cell_type": "markdown",
   "metadata": {},
   "source": [
    "\n",
    "La figura muestra un péndulo con longitud $L$ que forma un ángulo máximo $\\theta_{0}$ con la vertical. Usando la Segunda Ley de Newton, se puede demostrar que el período $T$ (el tiempo para un ciclo completo) viene dado por:\n",
    "\n",
    "$$T = 4 \\sqrt{\\dfrac{L}{g}}\\int_{0}^{\\pi/2}\\dfrac{\\mathrm{d} x}{\\sqrt{1-k^2\\textrm{sin}^2(x)}}$$\n",
    "\n",
    "donde $k=\\textrm{sin}(\\theta_{0}/2)$ y $g$ la aceleración debida a la gravedad. Si $L = 1 $[m] y $\\theta_{0}=42^°$, use la Regla de Simpson con $n = 10$ para encontrar el período."
   ]
  },
  {
   "cell_type": "markdown",
   "metadata": {},
   "source": [
    "### Solución"
   ]
  },
  {
   "cell_type": "code",
   "execution_count": 42,
   "metadata": {},
   "outputs": [],
   "source": [
    "import math \n",
    "\n",
    "theta = 42\n",
    "L = 1\n",
    "g = 9.8\n",
    "func = lambda x,k=math.sin(theta/2): 1/math.sqrt(1-(k*math.sin(x))**2)"
   ]
  },
  {
   "cell_type": "code",
   "execution_count": 43,
   "metadata": {},
   "outputs": [
    {
     "name": "stdout",
     "output_type": "stream",
     "text": [
      "2.6518\n"
     ]
    }
   ],
   "source": [
    "area = aproximacion_integrales(0,math.pi/2,10,func,regla = \"simpson\")\n",
    "T = 4*math.sqrt(L/g)*area\n",
    "print(\"{:.4f}\".format(T)) ## 2.6518"
   ]
  },
  {
   "cell_type": "markdown",
   "metadata": {},
   "source": [
    "##  Retroalimentación sobre el curso \n",
    "\n",
    "Esta sección no será evaluada, pero nos permitirá obtener retroalimentación de las clases, tareas y laboratorios. Puedes ser completamente sincero, pues no será parte de la evaluación de esta tarea (ni de futuras).\n",
    "\n",
    "1. ¿Aproximadamente cuánto tiempo, en horas, te tomó terminar la tarea?\n",
    "\n",
    "R: << RESPUESTA DEL ALUMNO >>\n",
    "\n",
    "2. ¿Qué tan interesante es el laboratorio (0-100)?\n",
    "\n",
    "R: << RESPUESTA DEL ALUMNO >>\n",
    "\n",
    "3. ¿Qué tan difícil fue esta tarea (0-100)? Siendo 0 complemente trivial, 100 completamente imposible y 50 siendo una complejidad apropiada.\n",
    "\n",
    "R: << RESPUESTA DEL ALUMNO >>"
   ]
  }
 ],
 "metadata": {
  "kernelspec": {
   "display_name": "Python 3",
   "language": "python",
   "name": "python3"
  },
  "language_info": {
   "codemirror_mode": {
    "name": "ipython",
    "version": 3
   },
   "file_extension": ".py",
   "mimetype": "text/x-python",
   "name": "python",
   "nbconvert_exporter": "python",
   "pygments_lexer": "ipython3",
   "version": "3.6.8"
  }
 },
 "nbformat": 4,
 "nbformat_minor": 2
}

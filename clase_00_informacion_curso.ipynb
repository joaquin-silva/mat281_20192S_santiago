{
 "cells": [
  {
   "cell_type": "markdown",
   "metadata": {},
   "source": [
    "<img src=\"images/usm.png\" width=\"480\" height=\"240\" align=\"left\"/>"
   ]
  },
  {
   "cell_type": "markdown",
   "metadata": {},
   "source": [
    "# MAT281 - 2° Semestre 2019\n",
    "## Aplicaciones de la Matemática en la Ingeniería"
   ]
  },
  {
   "cell_type": "markdown",
   "metadata": {
    "slideshow": {
     "slide_type": "slide"
    }
   },
   "source": [
    "## Contenidos\n",
    "\n",
    "* [Equipo de trabajo](#et)\n",
    "* [Horario](#ho)\n",
    "* [Aspectos generales](#ag)\n",
    "* [Reglas del juego](#rg)\n",
    "* [Referencias](#Referencias)\n"
   ]
  },
  {
   "cell_type": "markdown",
   "metadata": {
    "slideshow": {
     "slide_type": "slide"
    }
   },
   "source": [
    "<a id='et'></a>\n",
    "## Equipo de trabajo\n",
    "\n",
    "**Francisco Alfaro Medina** - Profesor clases teóricas/laboratorio\n",
    "* Ingeniero Civil Matemático - UTFSM, Chile (2011-2017).\n",
    "* Magister en Ciencias, Mención Matemáticas - UTFSM, Chile (2017-2019).\n",
    "* Empresas: Uplanner, Iconstruye, Cencosud.\n",
    "* Universidades: UTFSM, PUCV.\n",
    "* Actualmente: Data Science (Cencosud)"
   ]
  },
  {
   "cell_type": "markdown",
   "metadata": {
    "slideshow": {
     "slide_type": "slide"
    }
   },
   "source": [
    "<a id='ho'></a>\n",
    "## Horario\n",
    "\n",
    "* **Clases teóricas**: Lunes, 14:00 a 15:30.\n",
    "* **Clases de laboratorio**: Lunes, 15:40 a 17:10. \n",
    "* **Ayudantías**: Viernes, 15:40 a 17:10. \n",
    "* **Trabajo individual**: 2-3 horas por semana."
   ]
  },
  {
   "cell_type": "markdown",
   "metadata": {
    "slideshow": {
     "slide_type": "slide"
    }
   },
   "source": [
    "<a id='ag'></a>\n",
    "##  Aspectos generales\n",
    "### Programa del curso\n",
    "\n",
    "* **Módulo 1** *Introducción*: Planificación del curso, reglas, herramientas, setup, consejos y otros temas introductorios.\n",
    "\n",
    "* **Módulo 2** *Análisis de datos*: Tipos de datos, obtención de datos, detección de errores, análisis.\n",
    "\n",
    "* **Módulo 3** *Visualización*: tipos de visualización, librerías más comunes, graficos dinámicos, etc.\n",
    "\n",
    "* **Módulo 4** *Machine Learning*: Datasets, métricas, algoritmos de  regresión, clasificación y clustering. Resolución de problemas ingenieriles."
   ]
  },
  {
   "cell_type": "markdown",
   "metadata": {},
   "source": [
    "El programa de asignatura tiene los siguientes **resultados de aprendizaje**.\n",
    "\n",
    "1. *Desarrollar competencias básicas en herramientas de programación como Python o R*.\n",
    "2. *Determinar la complejidad en la manipulación de datos (pequeños-grandes volúmenes de datos)*\n",
    "3. *Aplicar técnicas y herramientas de visualización de datos para identificar patrones de forma visual o presentar los resultados de una forma clara y concisa.*\n",
    "4. *Aplicar técnicas estadístico/matemáticas para resolución de problemas ingenieriles*.\n"
   ]
  },
  {
   "cell_type": "markdown",
   "metadata": {},
   "source": [
    "Los resultados de aprendizaje se encuentran correlacionados con las necesidades ingenieriles del mundo real. Por ejemplo,\n",
    "* Mejor utilización de recursos.\n",
    "* Garantizar calidad y reproducibilidad.\n",
    "* Detectar malas prácticas e ineficiencias.\n",
    "* Utilizar las mejores herramientas para el problema.\n",
    "* Definir métricas para determinar, controlar y mejorar el estado de un sistema."
   ]
  },
  {
   "cell_type": "markdown",
   "metadata": {},
   "source": [
    "<a id='rg'></a>\n",
    "## Reglas del juego\n",
    "\n",
    "* **Evaluaciones**: Tareas(T), laboratorios(L) y proyectos(P). Pondereción: $NF = 0.4\\ T + 0.4 \\ L + 0.2 \\ P$.\n",
    "* **Asistencia**: 85% de asistencia mínima para pasar el curso."
   ]
  },
  {
   "cell_type": "markdown",
   "metadata": {},
   "source": [
    "<a id='Referencias'></a>\n",
    "## Referencias\n",
    "\n",
    "* **Introduction to Statistical Learning**, Gareth James, Daniela Witten, Trevor Hastie and Robert Tibshirani.\n",
    "* **Elements of Statistical Learning**, Trevor Hastie, Robert Tibshirani and Jerome Friedman.\n",
    "* **The Hundred-Page Machine Learning Book**, Andriy Burkov.\n",
    "* **Introduction To Machine Learning With Python**, Andreas C. Müller,sarah Guido.\n"
   ]
  }
 ],
 "metadata": {
  "kernelspec": {
   "display_name": "Python 3",
   "language": "python",
   "name": "python3"
  },
  "language_info": {
   "codemirror_mode": {
    "name": "ipython",
    "version": 3
   },
   "file_extension": ".py",
   "mimetype": "text/x-python",
   "name": "python",
   "nbconvert_exporter": "python",
   "pygments_lexer": "ipython3",
   "version": "3.6.8"
  }
 },
 "nbformat": 4,
 "nbformat_minor": 2
}
